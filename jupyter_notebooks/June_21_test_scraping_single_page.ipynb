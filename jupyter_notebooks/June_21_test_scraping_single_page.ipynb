{
 "cells": [
  {
   "cell_type": "code",
   "execution_count": 1,
   "id": "c13e1591",
   "metadata": {},
   "outputs": [],
   "source": [
    "import requests"
   ]
  },
  {
   "cell_type": "code",
   "execution_count": 2,
   "id": "de5d9408",
   "metadata": {},
   "outputs": [],
   "source": [
    "# get response\n",
    "# url_string = \"https://scholar.google.com/scholar?hl=en&as_sdt=0%2C44&q=application+of+machine+learning+in+cancer+detection&btnG=\"\n",
    "url_string = \"https://scholar.google.com/scholar?hl=en&as_sdt=0%2C44&q=nanoparticles+in+cancer+ug+discovry&btnG=\"\n",
    "result = requests.get(url_string)"
   ]
  },
  {
   "cell_type": "code",
   "execution_count": 3,
   "id": "4f5f9831",
   "metadata": {},
   "outputs": [
    {
     "data": {
      "text/plain": [
       "requests.models.Response"
      ]
     },
     "execution_count": 3,
     "metadata": {},
     "output_type": "execute_result"
    }
   ],
   "source": [
    "type(result)"
   ]
  },
  {
   "cell_type": "code",
   "execution_count": 4,
   "id": "fb97bee9",
   "metadata": {},
   "outputs": [
    {
     "data": {
      "text/plain": [
       "b'<!DOCTYPE html PUBLIC \"-//W3C//DTD HTML 4.01 Transitional//EN\">\\n<html>\\n<head><meta http-equiv=\"content-type\" content=\"text/html; charset=utf-8\"><meta name=\"viewport\" content=\"initial-scale=1\"><title>https://scholar.google.com/scholar?hl=en&amp;as_sdt=0%2C44&amp;q=nanoparticles+in+cancer+ug+discovry&amp;btnG=</title></head>\\n<body style=\"font-family: arial, sans-serif; background-color: #fff; color: #000; padding:20px; font-size:18px; overscroll-behavior:contain;\" onload=\"e=document.getElementById(\\'captcha\\');if(e){e.focus();} if(solveSimpleChallenge) {solveSimpleChallenge(,);}\">\\n<div style=\"max-width:400px;\">\\n<hr noshade size=\"1\" style=\"color:#ccc; background-color:#ccc;\"><br>\\n<div style=\"font-size:13px;\">\\nOur systems have detected unusual traffic from your computer network.  Please try your request again later.  <a href=\"#\" onclick=\"document.getElementById(\\'infoDiv0\\').style.display=\\'block\\';\">Why did this happen?</a><br><br>\\n<div id=\"infoDiv0\" style=\"display:none; background-color:#eee; padding:10px; margin:0 0 15px 0; line-height:1.4em;\">\\nThis page appears when Google automatically detects requests coming from your computer network which appear to be in violation of the <a href=\"//www.google.com/policies/terms/\">Terms of Service</a>. The block will expire shortly after those requests stop.<br><br>This traffic may have been sent by malicious software, a browser plug-in, or a script that sends automated requests.  If you share your network connection, ask your administrator for help &mdash; a different computer using the same IP address may be responsible.  <a href=\"//support.google.com/websearch/answer/86640\">Learn more</a><br><br>Sometimes you may see this page if you are using advanced terms that robots are known to use, or sending requests very quickly.\\n</div><br>\\n\\nIP address: 2600:1700:11e0:86b0:a8c3:1ed7:5fe9:4daa<br>Time: 2023-06-28T22:45:43Z<br>URL: https://scholar.google.com/scholar?hl=en&amp;as_sdt=0%2C44&amp;q=nanoparticles+in+cancer+ug+discovry&amp;btnG=<br>\\n</div>\\n</div>\\n</body>\\n</html>\\n'"
      ]
     },
     "execution_count": 4,
     "metadata": {},
     "output_type": "execute_result"
    }
   ],
   "source": [
    "# calling .text method on the result variable returns the html document\n",
    "result.content"
   ]
  },
  {
   "cell_type": "markdown",
   "id": "96951fc3",
   "metadata": {},
   "source": [
    "### Getting 'soup' object for scraping"
   ]
  },
  {
   "cell_type": "code",
   "execution_count": 48,
   "id": "b28839e3",
   "metadata": {},
   "outputs": [],
   "source": [
    "# to extract specific information from the text file we can use bs4\n",
    "import bs4"
   ]
  },
  {
   "cell_type": "code",
   "execution_count": 49,
   "id": "9a8ee5d5",
   "metadata": {},
   "outputs": [],
   "source": [
    "soup = bs4.BeautifulSoup(result.content, \"lxml\")"
   ]
  },
  {
   "cell_type": "code",
   "execution_count": 50,
   "id": "c5df0665",
   "metadata": {
    "scrolled": true
   },
   "outputs": [
    {
     "name": "stdout",
     "output_type": "stream",
     "text": [
      "<!DOCTYPE html PUBLIC \"-//W3C//DTD HTML 4.01 Transitional//EN\">\n",
      "<html>\n",
      " <head>\n",
      "  <meta content=\"text/html; charset=utf-8\" http-equiv=\"content-type\"/>\n",
      "  <meta content=\"initial-scale=1\" name=\"viewport\"/>\n",
      "  <title>\n",
      "   https://scholar.google.com/scholar?start=10&amp;q=machine+learning+in+cancer+detection&amp;hl=en&amp;as_sdt=0,44\n",
      "  </title>\n",
      " </head>\n",
      " <body onload=\"e=document.getElementById('captcha');if(e){e.focus();} if(solveSimpleChallenge) {solveSimpleChallenge(,);}\" style=\"font-family: arial, sans-serif; background-color: #fff; color: #000; padding:20px; font-size:18px; overscroll-behavior:contain;\">\n",
      "  <div style=\"max-width:400px;\">\n",
      "   <hr noshade=\"\" size=\"1\" style=\"color:#ccc; background-color:#ccc;\"/>\n",
      "   <br/>\n",
      "   <div style=\"font-size:13px;\">\n",
      "    Our systems have detected unusual traffic from your computer network.  Please try your request again later.\n",
      "    <a href=\"#\" onclick=\"document.getElementById('infoDiv0').style.display='block';\">\n",
      "     Why did this happen?\n",
      "    </a>\n",
      "    <br/>\n",
      "    <br/>\n",
      "    <div id=\"infoDiv0\" style=\"display:none; background-color:#eee; padding:10px; margin:0 0 15px 0; line-height:1.4em;\">\n",
      "     This page appears when Google automatically detects requests coming from your computer network which appear to be in violation of the\n",
      "     <a href=\"//www.google.com/policies/terms/\">\n",
      "      Terms of Service\n",
      "     </a>\n",
      "     . The block will expire shortly after those requests stop.\n",
      "     <br/>\n",
      "     <br/>\n",
      "     This traffic may have been sent by malicious software, a browser plug-in, or a script that sends automated requests.  If you share your network connection, ask your administrator for help — a different computer using the same IP address may be responsible.\n",
      "     <a href=\"//support.google.com/websearch/answer/86640\">\n",
      "      Learn more\n",
      "     </a>\n",
      "     <br/>\n",
      "     <br/>\n",
      "     Sometimes you may see this page if you are using advanced terms that robots are known to use, or sending requests very quickly.\n",
      "    </div>\n",
      "    <br/>\n",
      "    IP address: 2600:1700:11e0:86b0:a8c3:1ed7:5fe9:4daa\n",
      "    <br/>\n",
      "    Time: 2023-06-28T19:18:02Z\n",
      "    <br/>\n",
      "    URL: https://scholar.google.com/scholar?start=10&amp;q=machine+learning+in+cancer+detection&amp;hl=en&amp;as_sdt=0,44\n",
      "    <br/>\n",
      "   </div>\n",
      "  </div>\n",
      " </body>\n",
      "</html>\n",
      "\n"
     ]
    }
   ],
   "source": [
    "print(soup.prettify())"
   ]
  },
  {
   "cell_type": "markdown",
   "id": "2af97698",
   "metadata": {},
   "source": [
    "### Grabbing search item 'title'"
   ]
  },
  {
   "cell_type": "code",
   "execution_count": 51,
   "id": "07f2b9e9",
   "metadata": {},
   "outputs": [
    {
     "ename": "IndexError",
     "evalue": "list index out of range",
     "output_type": "error",
     "traceback": [
      "\u001b[1;31m---------------------------------------------------------------------------\u001b[0m",
      "\u001b[1;31mIndexError\u001b[0m                                Traceback (most recent call last)",
      "Cell \u001b[1;32mIn[51], line 2\u001b[0m\n\u001b[0;32m      1\u001b[0m \u001b[38;5;66;03m# each result is encapsulated by a [data-lid] tag\u001b[39;00m\n\u001b[1;32m----> 2\u001b[0m \u001b[43msoup\u001b[49m\u001b[38;5;241;43m.\u001b[39;49m\u001b[43mselect\u001b[49m\u001b[43m(\u001b[49m\u001b[38;5;124;43m'\u001b[39;49m\u001b[38;5;124;43m[data-lid]\u001b[39;49m\u001b[38;5;124;43m'\u001b[39;49m\u001b[43m)\u001b[49m\u001b[43m[\u001b[49m\u001b[38;5;241;43m0\u001b[39;49m\u001b[43m]\u001b[49m\n",
      "\u001b[1;31mIndexError\u001b[0m: list index out of range"
     ]
    }
   ],
   "source": [
    "# each result is encapsulated by a [data-lid] tag\n",
    "soup.select('[data-lid]')[0]    # returns a list"
   ]
  },
  {
   "cell_type": "code",
   "execution_count": null,
   "id": "7e7b8ab5",
   "metadata": {},
   "outputs": [],
   "source": [
    "soup.select('[data-lid]')[0].select('h3')[0].get_text()"
   ]
  },
  {
   "cell_type": "code",
   "execution_count": null,
   "id": "f6e72978",
   "metadata": {},
   "outputs": [],
   "source": [
    "# getting all search result titles from the page\n",
    "res_list = list(soup.select('[data-lid]'))\n",
    "len(res_list)"
   ]
  },
  {
   "cell_type": "code",
   "execution_count": null,
   "id": "05bab484",
   "metadata": {},
   "outputs": [],
   "source": [
    "# creating a list of titles\n",
    "titles = [item.select('h3')[0].get_text() for item in res_list]\n",
    "titles"
   ]
  },
  {
   "cell_type": "markdown",
   "id": "d938ea7c",
   "metadata": {},
   "source": [
    "### Grabbing search query entered by user"
   ]
  },
  {
   "cell_type": "code",
   "execution_count": null,
   "id": "6fb0e4bc",
   "metadata": {},
   "outputs": [],
   "source": [
    "# grabbing search query for stroring search data\n",
    "\n",
    "search_query_list = []\n",
    "res_set = soup.select('.gs_in_txt')\n",
    "for i in range(0, int(len(res_set)/2)):\n",
    "    search_query_list.append(res_set[i]['value'])\n",
    "    \n",
    "''.join(search_query_list)"
   ]
  },
  {
   "cell_type": "markdown",
   "id": "95256cdd",
   "metadata": {},
   "source": [
    "### Grabbing url to each search result"
   ]
  },
  {
   "cell_type": "code",
   "execution_count": null,
   "id": "6cffdb14",
   "metadata": {},
   "outputs": [],
   "source": [
    "# grabbing url\n",
    "res_list = list(soup.select('[data-lid]'))\n",
    "article_urls = [item.find_all('a')[1]['href'] for item in res_list]\n",
    "article_urls"
   ]
  },
  {
   "cell_type": "code",
   "execution_count": null,
   "id": "700617e9",
   "metadata": {},
   "outputs": [],
   "source": [
    "res_list = list(soup.select('[data-lid]'))\n",
    "article_urls = []\n",
    "for item in res_list:\n",
    "    if 'https:' in item.find_all('a')[1]['href']:\n",
    "        article_urls.append(item.find_all('a')[1]['href'])\n",
    "    else:\n",
    "        article_urls.append(item.find_all('a')[0]['href'])\n",
    "        \n",
    "for url in article_urls:\n",
    "    print(url)"
   ]
  },
  {
   "cell_type": "code",
   "execution_count": null,
   "id": "e220b75c",
   "metadata": {},
   "outputs": [],
   "source": [
    "url = \"https://www.researchgate.net/profile/Raed-Shubair-2/publication/320046589_Comparative_Study_of_Machine_Learning_Algorithms_for_Breast_Cancer_Detection_and_Diagnosis/links/59caded3aca272bb05079958/Comparative-Study-of-Machine-Learning-Algorithms-for-Breast-Cancer-Detection-and-Diagnosis.pdf\"\n",
    "len(url[0:255])"
   ]
  },
  {
   "cell_type": "markdown",
   "id": "b6385286",
   "metadata": {},
   "source": [
    "### Grabbing author names"
   ]
  },
  {
   "cell_type": "code",
   "execution_count": null,
   "id": "83e56246",
   "metadata": {},
   "outputs": [],
   "source": [
    "soup.select('.gs_a')[0].find_all('a')"
   ]
  },
  {
   "cell_type": "code",
   "execution_count": null,
   "id": "0bda72c7",
   "metadata": {},
   "outputs": [],
   "source": [
    "# grabbing author names\n",
    "auth_list = []\n",
    "for author in soup.select('.gs_a')[2].find_all('a'):\n",
    "    auth_list.append(author.get_text())\n",
    "    \n",
    "', '.join(auth_list)   # A string of author names"
   ]
  },
  {
   "cell_type": "code",
   "execution_count": null,
   "id": "63ea0b12",
   "metadata": {},
   "outputs": [],
   "source": [
    "# getting all first authors using list comprehension\n",
    "res_list = soup.select('.gs_a')\n",
    "first_authors_list = [item.find_all('a')[0].get_text() for item in res_list]\n",
    "first_authors_list"
   ]
  },
  {
   "cell_type": "markdown",
   "id": "a70b8119",
   "metadata": {},
   "source": [
    "### Grabbing publication year"
   ]
  },
  {
   "cell_type": "code",
   "execution_count": null,
   "id": "23051765",
   "metadata": {},
   "outputs": [],
   "source": [
    "# grabbing year\n",
    "for value in soup.select('.gs_a')[2].get_text().split():\n",
    "    if value.isnumeric():\n",
    "        print(value)"
   ]
  },
  {
   "cell_type": "code",
   "execution_count": null,
   "id": "01a186d9",
   "metadata": {},
   "outputs": [],
   "source": [
    "res_list = list(soup.select('.gs_a'))\n",
    "years_list = []\n",
    "    \n",
    "for value in res_list:\n",
    "    terms = value.get_text().split()\n",
    "    value = [item for item in terms if item.isnumeric()]\n",
    "    years_list.append(value[0])\n",
    "\n",
    "years_list"
   ]
  },
  {
   "cell_type": "markdown",
   "id": "fae7a83a",
   "metadata": {},
   "source": [
    "### Grabbing name of the journal"
   ]
  },
  {
   "cell_type": "code",
   "execution_count": null,
   "id": "74480c44",
   "metadata": {},
   "outputs": [],
   "source": [
    "# journal name as it is typically the last item under the '.gs_a' class\n",
    "soup.select('.gs_a')[2].get_text().split()[-1]"
   ]
  },
  {
   "cell_type": "code",
   "execution_count": null,
   "id": "462adfa2",
   "metadata": {},
   "outputs": [],
   "source": [
    "res_list = list(soup.select('.gs_a'))\n",
    "journal_names_list = [item.get_text().split()[-1] for item in res_list]\n",
    "journal_names_list"
   ]
  },
  {
   "cell_type": "markdown",
   "id": "46c0795b",
   "metadata": {},
   "source": [
    "### Grabbing total number of citations for each result"
   ]
  },
  {
   "cell_type": "code",
   "execution_count": null,
   "id": "52f31d52",
   "metadata": {},
   "outputs": [],
   "source": [
    "# the 'gs_fl' class containing citation for each search item = (i*2)+1 ( i = 0, the index is 1)\n",
    "res_list = list(soup.select('.gs_fl'))\n",
    "valid_res_list = [item for item in res_list if len(item[\"class\"]) == 1]\n",
    "valid_res_list"
   ]
  },
  {
   "cell_type": "code",
   "execution_count": null,
   "id": "b8ae7fd9",
   "metadata": {},
   "outputs": [],
   "source": [
    "valid_res_list[0].find_all('a')[2].get_text()"
   ]
  },
  {
   "cell_type": "code",
   "execution_count": null,
   "id": "e354bd82",
   "metadata": {},
   "outputs": [],
   "source": [
    "total_citations_list = [int(item.find_all('a')[2].get_text().split()[-1]) for item in valid_res_list]\n",
    "total_citations_list"
   ]
  }
 ],
 "metadata": {
  "kernelspec": {
   "display_name": "webscr",
   "language": "python",
   "name": "webscr"
  },
  "language_info": {
   "codemirror_mode": {
    "name": "ipython",
    "version": 3
   },
   "file_extension": ".py",
   "mimetype": "text/x-python",
   "name": "python",
   "nbconvert_exporter": "python",
   "pygments_lexer": "ipython3",
   "version": "3.10.11"
  }
 },
 "nbformat": 4,
 "nbformat_minor": 5
}
