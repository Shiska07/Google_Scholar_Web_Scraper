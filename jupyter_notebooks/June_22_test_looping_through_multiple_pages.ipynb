{
 "cells": [
  {
   "cell_type": "code",
   "execution_count": 1,
   "id": "01a12bca",
   "metadata": {},
   "outputs": [],
   "source": [
    "import requests\n",
    "import bs4\n",
    "import numpy as np\n",
    "import pandas as pd"
   ]
  },
  {
   "cell_type": "code",
   "execution_count": 25,
   "id": "6882c3d8",
   "metadata": {},
   "outputs": [],
   "source": [
    "starting_url = \"https://scholar.google.com/scholar?start=0&q=(%22Machine+Learning%22%7C%22Deep+Learning%22)(%22Radiation+oncology%22%7C%22cancer+detection%22)&hl=en&as_sdt=0,44\"\n",
    "web_url = \"https://scholar.google.com\"\n",
    "# get intial response\n",
    "init_response = requests.get(starting_url)"
   ]
  },
  {
   "cell_type": "code",
   "execution_count": 27,
   "id": "b96396f5",
   "metadata": {},
   "outputs": [],
   "source": [
    "# create soup\n",
    "init_soup = bs4.BeautifulSoup(init_response.content, \"lxml\")"
   ]
  },
  {
   "cell_type": "code",
   "execution_count": 33,
   "id": "6d37790a",
   "metadata": {},
   "outputs": [
    {
     "name": "stdout",
     "output_type": "stream",
     "text": [
      "<b class=\"gs_nma\">1</b>\n"
     ]
    },
    {
     "data": {
      "text/plain": [
       "'/scholar?start=60&q=(%22Machine+Learning%22%7C%22Deep+Learning%22)(%22Radiation+oncology%22%7C%22cancer+detection%22)&hl=en&oe=ASCII&as_sdt=0,44'"
      ]
     },
     "execution_count": 33,
     "metadata": {},
     "output_type": "execute_result"
    }
   ],
   "source": [
    "# use '.gs_nma' class tag to find url's for next pages\n",
    "print(init_soup.select('.gs_nma')[0]) # the first one does not have a href value with the url\n",
    "init_soup.select('#gs_nml')[0].find_all('a')[5]['href']"
   ]
  },
  {
   "cell_type": "code",
   "execution_count": 36,
   "id": "7ee8594d",
   "metadata": {},
   "outputs": [],
   "source": [
    "result_set = init_soup.select('#gs_nml')[0].find_all('a')"
   ]
  },
  {
   "cell_type": "code",
   "execution_count": 37,
   "id": "44ea8480",
   "metadata": {},
   "outputs": [
    {
     "data": {
      "text/plain": [
       "['https://scholar.google.com/scholar?start=10&q=(%22Machine+Learning%22%7C%22Deep+Learning%22)(%22Radiation+oncology%22%7C%22cancer+detection%22)&hl=en&oe=ASCII&as_sdt=0,44',\n",
       " 'https://scholar.google.com/scholar?start=20&q=(%22Machine+Learning%22%7C%22Deep+Learning%22)(%22Radiation+oncology%22%7C%22cancer+detection%22)&hl=en&oe=ASCII&as_sdt=0,44',\n",
       " 'https://scholar.google.com/scholar?start=30&q=(%22Machine+Learning%22%7C%22Deep+Learning%22)(%22Radiation+oncology%22%7C%22cancer+detection%22)&hl=en&oe=ASCII&as_sdt=0,44',\n",
       " 'https://scholar.google.com/scholar?start=40&q=(%22Machine+Learning%22%7C%22Deep+Learning%22)(%22Radiation+oncology%22%7C%22cancer+detection%22)&hl=en&oe=ASCII&as_sdt=0,44',\n",
       " 'https://scholar.google.com/scholar?start=50&q=(%22Machine+Learning%22%7C%22Deep+Learning%22)(%22Radiation+oncology%22%7C%22cancer+detection%22)&hl=en&oe=ASCII&as_sdt=0,44',\n",
       " 'https://scholar.google.com/scholar?start=60&q=(%22Machine+Learning%22%7C%22Deep+Learning%22)(%22Radiation+oncology%22%7C%22cancer+detection%22)&hl=en&oe=ASCII&as_sdt=0,44',\n",
       " 'https://scholar.google.com/scholar?start=70&q=(%22Machine+Learning%22%7C%22Deep+Learning%22)(%22Radiation+oncology%22%7C%22cancer+detection%22)&hl=en&oe=ASCII&as_sdt=0,44',\n",
       " 'https://scholar.google.com/scholar?start=80&q=(%22Machine+Learning%22%7C%22Deep+Learning%22)(%22Radiation+oncology%22%7C%22cancer+detection%22)&hl=en&oe=ASCII&as_sdt=0,44',\n",
       " 'https://scholar.google.com/scholar?start=90&q=(%22Machine+Learning%22%7C%22Deep+Learning%22)(%22Radiation+oncology%22%7C%22cancer+detection%22)&hl=en&oe=ASCII&as_sdt=0,44']"
      ]
     },
     "execution_count": 37,
     "metadata": {},
     "output_type": "execute_result"
    }
   ],
   "source": [
    "# using the intial response, save urls of up to 9 pages in a list\n",
    "url_list = []\n",
    "for i in range(0, 9):\n",
    "    url_raw = result_set[i]['href']\n",
    "    url_final = web_url + url_raw\n",
    "    url_list.append(url_final)\n",
    "    \n",
    "url_list"
   ]
  },
  {
   "cell_type": "code",
   "execution_count": 24,
   "id": "8376a15b",
   "metadata": {},
   "outputs": [
    {
     "data": {
      "text/plain": [
       "'https://scholar.google'"
      ]
     },
     "execution_count": 24,
     "metadata": {},
     "output_type": "execute_result"
    }
   ],
   "source": [
    "starting_url.split('.com')[0]"
   ]
  },
  {
   "cell_type": "code",
   "execution_count": 38,
   "id": "347b85ec",
   "metadata": {},
   "outputs": [
    {
     "data": {
      "text/plain": [
       "['https://scholar.google.com/scholar?start=0&q=(%22Machine+Learning%22%7C%22Deep+Learning%22)(%22Radiation+oncology%22%7C%22cancer+detection%22)&hl=en&as_sdt=0,44',\n",
       " 'https://scholar.google.com/scholar?start=10&q=(%22Machine+Learning%22%7C%22Deep+Learning%22)(%22Radiation+oncology%22%7C%22cancer+detection%22)&hl=en&oe=ASCII&as_sdt=0,44',\n",
       " 'https://scholar.google.com/scholar?start=20&q=(%22Machine+Learning%22%7C%22Deep+Learning%22)(%22Radiation+oncology%22%7C%22cancer+detection%22)&hl=en&oe=ASCII&as_sdt=0,44',\n",
       " 'https://scholar.google.com/scholar?start=30&q=(%22Machine+Learning%22%7C%22Deep+Learning%22)(%22Radiation+oncology%22%7C%22cancer+detection%22)&hl=en&oe=ASCII&as_sdt=0,44',\n",
       " 'https://scholar.google.com/scholar?start=40&q=(%22Machine+Learning%22%7C%22Deep+Learning%22)(%22Radiation+oncology%22%7C%22cancer+detection%22)&hl=en&oe=ASCII&as_sdt=0,44',\n",
       " 'https://scholar.google.com/scholar?start=50&q=(%22Machine+Learning%22%7C%22Deep+Learning%22)(%22Radiation+oncology%22%7C%22cancer+detection%22)&hl=en&oe=ASCII&as_sdt=0,44',\n",
       " 'https://scholar.google.com/scholar?start=60&q=(%22Machine+Learning%22%7C%22Deep+Learning%22)(%22Radiation+oncology%22%7C%22cancer+detection%22)&hl=en&oe=ASCII&as_sdt=0,44',\n",
       " 'https://scholar.google.com/scholar?start=70&q=(%22Machine+Learning%22%7C%22Deep+Learning%22)(%22Radiation+oncology%22%7C%22cancer+detection%22)&hl=en&oe=ASCII&as_sdt=0,44',\n",
       " 'https://scholar.google.com/scholar?start=80&q=(%22Machine+Learning%22%7C%22Deep+Learning%22)(%22Radiation+oncology%22%7C%22cancer+detection%22)&hl=en&oe=ASCII&as_sdt=0,44',\n",
       " 'https://scholar.google.com/scholar?start=90&q=(%22Machine+Learning%22%7C%22Deep+Learning%22)(%22Radiation+oncology%22%7C%22cancer+detection%22)&hl=en&oe=ASCII&as_sdt=0,44']"
      ]
     },
     "execution_count": 38,
     "metadata": {},
     "output_type": "execute_result"
    }
   ],
   "source": [
    "# add starting url to the list\n",
    "url_list.insert(0, starting_url)\n",
    "url_list"
   ]
  },
  {
   "cell_type": "markdown",
   "id": "4c0b73f4",
   "metadata": {},
   "source": [
    "## Scraping Workflow"
   ]
  },
  {
   "cell_type": "code",
   "execution_count": null,
   "id": "bd9a1c50",
   "metadata": {},
   "outputs": [],
   "source": []
  }
 ],
 "metadata": {
  "kernelspec": {
   "display_name": "webscr",
   "language": "python",
   "name": "webscr"
  },
  "language_info": {
   "codemirror_mode": {
    "name": "ipython",
    "version": 3
   },
   "file_extension": ".py",
   "mimetype": "text/x-python",
   "name": "python",
   "nbconvert_exporter": "python",
   "pygments_lexer": "ipython3",
   "version": "3.10.11"
  }
 },
 "nbformat": 4,
 "nbformat_minor": 5
}
