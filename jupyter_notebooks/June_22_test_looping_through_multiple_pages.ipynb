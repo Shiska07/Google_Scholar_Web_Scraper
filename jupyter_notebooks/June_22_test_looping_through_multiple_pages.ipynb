{
 "cells": [
  {
   "cell_type": "code",
   "execution_count": 1,
   "id": "01a12bca",
   "metadata": {},
   "outputs": [],
   "source": [
    "import requests\n",
    "import bs4\n",
    "import numpy as np\n",
    "import pandas as pd"
   ]
  },
  {
   "cell_type": "code",
   "execution_count": 2,
   "id": "6882c3d8",
   "metadata": {},
   "outputs": [],
   "source": [
    "starting_url = \"https://scholar.google.com/scholar?start=0&q=(%22Machine+Learning%22%7C%22Deep+Learning%22)(%22Radiation+oncology%22%7C%22cancer+detection%22)&hl=en&as_sdt=0,44\"\n",
    "web_url = \"https://scholar.google.com\"\n",
    "# get intial response\n",
    "init_response = requests.get(starting_url)"
   ]
  },
  {
   "cell_type": "code",
   "execution_count": 3,
   "id": "b96396f5",
   "metadata": {},
   "outputs": [],
   "source": [
    "# create soup\n",
    "init_soup = bs4.BeautifulSoup(init_response.content, \"lxml\")"
   ]
  },
  {
   "cell_type": "code",
   "execution_count": 4,
   "id": "6d37790a",
   "metadata": {},
   "outputs": [
    {
     "name": "stdout",
     "output_type": "stream",
     "text": [
      "<b class=\"gs_nma\">1</b>\n"
     ]
    },
    {
     "data": {
      "text/plain": [
       "'/scholar?start=60&q=(%22Machine+Learning%22%7C%22Deep+Learning%22)(%22Radiation+oncology%22%7C%22cancer+detection%22)&hl=en&oe=ASCII&as_sdt=0,44'"
      ]
     },
     "execution_count": 4,
     "metadata": {},
     "output_type": "execute_result"
    }
   ],
   "source": [
    "# use '.gs_nma' class tag to find url's for next pages\n",
    "print(init_soup.select('.gs_nma')[0]) # the first one does not have a href value with the url\n",
    "init_soup.select('#gs_nml')[0].find_all('a')[5]['href']"
   ]
  },
  {
   "cell_type": "code",
   "execution_count": 5,
   "id": "7ee8594d",
   "metadata": {},
   "outputs": [],
   "source": [
    "result_set = init_soup.select('#gs_nml')[0].find_all('a')"
   ]
  },
  {
   "cell_type": "code",
   "execution_count": 6,
   "id": "44ea8480",
   "metadata": {},
   "outputs": [
    {
     "data": {
      "text/plain": [
       "['https://scholar.google.com/scholar?start=10&q=(%22Machine+Learning%22%7C%22Deep+Learning%22)(%22Radiation+oncology%22%7C%22cancer+detection%22)&hl=en&oe=ASCII&as_sdt=0,44',\n",
       " 'https://scholar.google.com/scholar?start=20&q=(%22Machine+Learning%22%7C%22Deep+Learning%22)(%22Radiation+oncology%22%7C%22cancer+detection%22)&hl=en&oe=ASCII&as_sdt=0,44',\n",
       " 'https://scholar.google.com/scholar?start=30&q=(%22Machine+Learning%22%7C%22Deep+Learning%22)(%22Radiation+oncology%22%7C%22cancer+detection%22)&hl=en&oe=ASCII&as_sdt=0,44',\n",
       " 'https://scholar.google.com/scholar?start=40&q=(%22Machine+Learning%22%7C%22Deep+Learning%22)(%22Radiation+oncology%22%7C%22cancer+detection%22)&hl=en&oe=ASCII&as_sdt=0,44',\n",
       " 'https://scholar.google.com/scholar?start=50&q=(%22Machine+Learning%22%7C%22Deep+Learning%22)(%22Radiation+oncology%22%7C%22cancer+detection%22)&hl=en&oe=ASCII&as_sdt=0,44',\n",
       " 'https://scholar.google.com/scholar?start=60&q=(%22Machine+Learning%22%7C%22Deep+Learning%22)(%22Radiation+oncology%22%7C%22cancer+detection%22)&hl=en&oe=ASCII&as_sdt=0,44',\n",
       " 'https://scholar.google.com/scholar?start=70&q=(%22Machine+Learning%22%7C%22Deep+Learning%22)(%22Radiation+oncology%22%7C%22cancer+detection%22)&hl=en&oe=ASCII&as_sdt=0,44',\n",
       " 'https://scholar.google.com/scholar?start=80&q=(%22Machine+Learning%22%7C%22Deep+Learning%22)(%22Radiation+oncology%22%7C%22cancer+detection%22)&hl=en&oe=ASCII&as_sdt=0,44',\n",
       " 'https://scholar.google.com/scholar?start=90&q=(%22Machine+Learning%22%7C%22Deep+Learning%22)(%22Radiation+oncology%22%7C%22cancer+detection%22)&hl=en&oe=ASCII&as_sdt=0,44']"
      ]
     },
     "execution_count": 6,
     "metadata": {},
     "output_type": "execute_result"
    }
   ],
   "source": [
    "# using the intial response, save urls of up to 9 pages in a list\n",
    "url_list = []\n",
    "for i in range(0, 9):\n",
    "    url_raw = result_set[i]['href']\n",
    "    url_final = web_url + url_raw\n",
    "    url_list.append(url_final)\n",
    "    \n",
    "url_list"
   ]
  },
  {
   "cell_type": "code",
   "execution_count": 7,
   "id": "8376a15b",
   "metadata": {},
   "outputs": [
    {
     "data": {
      "text/plain": [
       "'https://scholar.google'"
      ]
     },
     "execution_count": 7,
     "metadata": {},
     "output_type": "execute_result"
    }
   ],
   "source": [
    "starting_url.split('.com')[0]"
   ]
  },
  {
   "cell_type": "code",
   "execution_count": 8,
   "id": "347b85ec",
   "metadata": {},
   "outputs": [
    {
     "data": {
      "text/plain": [
       "['https://scholar.google.com/scholar?start=0&q=(%22Machine+Learning%22%7C%22Deep+Learning%22)(%22Radiation+oncology%22%7C%22cancer+detection%22)&hl=en&as_sdt=0,44',\n",
       " 'https://scholar.google.com/scholar?start=10&q=(%22Machine+Learning%22%7C%22Deep+Learning%22)(%22Radiation+oncology%22%7C%22cancer+detection%22)&hl=en&oe=ASCII&as_sdt=0,44',\n",
       " 'https://scholar.google.com/scholar?start=20&q=(%22Machine+Learning%22%7C%22Deep+Learning%22)(%22Radiation+oncology%22%7C%22cancer+detection%22)&hl=en&oe=ASCII&as_sdt=0,44',\n",
       " 'https://scholar.google.com/scholar?start=30&q=(%22Machine+Learning%22%7C%22Deep+Learning%22)(%22Radiation+oncology%22%7C%22cancer+detection%22)&hl=en&oe=ASCII&as_sdt=0,44',\n",
       " 'https://scholar.google.com/scholar?start=40&q=(%22Machine+Learning%22%7C%22Deep+Learning%22)(%22Radiation+oncology%22%7C%22cancer+detection%22)&hl=en&oe=ASCII&as_sdt=0,44',\n",
       " 'https://scholar.google.com/scholar?start=50&q=(%22Machine+Learning%22%7C%22Deep+Learning%22)(%22Radiation+oncology%22%7C%22cancer+detection%22)&hl=en&oe=ASCII&as_sdt=0,44',\n",
       " 'https://scholar.google.com/scholar?start=60&q=(%22Machine+Learning%22%7C%22Deep+Learning%22)(%22Radiation+oncology%22%7C%22cancer+detection%22)&hl=en&oe=ASCII&as_sdt=0,44',\n",
       " 'https://scholar.google.com/scholar?start=70&q=(%22Machine+Learning%22%7C%22Deep+Learning%22)(%22Radiation+oncology%22%7C%22cancer+detection%22)&hl=en&oe=ASCII&as_sdt=0,44',\n",
       " 'https://scholar.google.com/scholar?start=80&q=(%22Machine+Learning%22%7C%22Deep+Learning%22)(%22Radiation+oncology%22%7C%22cancer+detection%22)&hl=en&oe=ASCII&as_sdt=0,44',\n",
       " 'https://scholar.google.com/scholar?start=90&q=(%22Machine+Learning%22%7C%22Deep+Learning%22)(%22Radiation+oncology%22%7C%22cancer+detection%22)&hl=en&oe=ASCII&as_sdt=0,44']"
      ]
     },
     "execution_count": 8,
     "metadata": {},
     "output_type": "execute_result"
    }
   ],
   "source": [
    "# add starting url to the list\n",
    "url_list.insert(0, starting_url)\n",
    "url_list"
   ]
  },
  {
   "cell_type": "markdown",
   "id": "4c0b73f4",
   "metadata": {},
   "source": [
    "## Scraping Workflow"
   ]
  },
  {
   "cell_type": "code",
   "execution_count": 13,
   "id": "bd9a1c50",
   "metadata": {},
   "outputs": [
    {
     "data": {
      "text/plain": [
       "[<input autocapitalize=\"off\" class=\"gs_in_txt\" id=\"gs_asd_q\" name=\"as_q\" type=\"text\" value=\"\"/>,\n",
       " <input autocapitalize=\"off\" class=\"gs_in_txt\" id=\"gs_asd_epq\" name=\"as_epq\" type=\"text\" value=\"\"/>,\n",
       " <input autocapitalize=\"off\" class=\"gs_in_txt\" id=\"gs_asd_oq\" name=\"as_oq\" type=\"text\" value='\"Machine Learning\" \"Deep Learning\" \"Radiation oncology\" \"cancer detection\"'/>,\n",
       " <input autocapitalize=\"off\" class=\"gs_in_txt\" id=\"gs_asd_eq\" name=\"as_eq\" type=\"text\" value=\"\"/>,\n",
       " <input checked=\"\" id=\"gs_asd_occt_a\" name=\"as_occt\" type=\"radio\" value=\"any\"/>,\n",
       " <input id=\"gs_asd_occt_t\" name=\"as_occt\" type=\"radio\" value=\"title\"/>,\n",
       " <input autocapitalize=\"off\" class=\"gs_in_txt\" id=\"gs_asd_sau\" name=\"as_sauthors\" type=\"text\" value=\"\"/>,\n",
       " <input autocapitalize=\"off\" class=\"gs_in_txt\" id=\"gs_asd_pub\" name=\"as_publication\" type=\"text\" value=\"\"/>,\n",
       " <input autocapitalize=\"off\" class=\"gs_in_txt\" id=\"gs_asd_ylo\" maxlength=\"4\" name=\"as_ylo\" pattern=\"[0-9]*\" size=\"4\" type=\"text\" value=\"\"/>,\n",
       " <input autocapitalize=\"off\" class=\"gs_in_txt\" id=\"gs_asd_yhi\" maxlength=\"4\" name=\"as_yhi\" pattern=\"[0-9]*\" size=\"4\" type=\"text\" value=\"\"/>,\n",
       " <input name=\"hl\" type=\"hidden\" value=\"en\"/>,\n",
       " <input name=\"oe\" type=\"hidden\" value=\"ASCII\"/>,\n",
       " <input name=\"as_sdt\" type=\"hidden\" value=\"0,44\"/>,\n",
       " <input name=\"hl\" type=\"hidden\" value=\"en\"/>,\n",
       " <input name=\"oe\" type=\"hidden\" value=\"ASCII\"/>,\n",
       " <input name=\"as_sdt\" type=\"hidden\" value=\"0,44\"/>,\n",
       " <input aria-label=\"Search\" autocapitalize=\"off\" class=\"gs_in_txt\" id=\"gs_hdr_tsi\" maxlength=\"2048\" name=\"q\" size=\"50\" type=\"text\" value='(\"Machine Learning\"|\"Deep Learning\")(\"Radiation oncology\"|\"cancer detection\")'/>,\n",
       " <input name=\"q\" type=\"hidden\" value='(\"Machine Learning\"|\"Deep Learning\")(\"Radiation oncology\"|\"cancer detection\")'/>,\n",
       " <input name=\"hl\" type=\"hidden\" value=\"en\"/>,\n",
       " <input name=\"oe\" type=\"hidden\" value=\"ASCII\"/>,\n",
       " <input name=\"as_sdt\" type=\"hidden\" value=\"0,44\"/>,\n",
       " <input autocapitalize=\"off\" class=\"gs_in_txt\" id=\"gs_as_ylo\" maxlength=\"4\" name=\"as_ylo\" pattern=\"[0-9]*\" size=\"4\" type=\"text\" value=\"\"/>,\n",
       " <input autocapitalize=\"off\" class=\"gs_in_txt\" maxlength=\"4\" name=\"as_yhi\" pattern=\"[0-9]*\" size=\"4\" type=\"text\" value=\"\"/>]"
      ]
     },
     "execution_count": 13,
     "metadata": {},
     "output_type": "execute_result"
    }
   ],
   "source": [
    "init_soup.select('input')."
   ]
  },
  {
   "cell_type": "code",
   "execution_count": null,
   "id": "a9665f98",
   "metadata": {},
   "outputs": [],
   "source": []
  }
 ],
 "metadata": {
  "kernelspec": {
   "display_name": "webscr",
   "language": "python",
   "name": "webscr"
  },
  "language_info": {
   "codemirror_mode": {
    "name": "ipython",
    "version": 3
   },
   "file_extension": ".py",
   "mimetype": "text/x-python",
   "name": "python",
   "nbconvert_exporter": "python",
   "pygments_lexer": "ipython3",
   "version": "3.10.11"
  }
 },
 "nbformat": 4,
 "nbformat_minor": 5
}
