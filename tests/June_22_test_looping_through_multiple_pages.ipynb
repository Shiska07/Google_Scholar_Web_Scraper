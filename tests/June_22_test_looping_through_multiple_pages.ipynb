{
 "cells": [
  {
   "cell_type": "code",
   "execution_count": 1,
   "id": "2f6b938b",
   "metadata": {},
   "outputs": [],
   "source": [
    "import requests\n",
    "import bs4\n",
    "import numpy as np\n",
    "import pandas as pd"
   ]
  },
  {
   "cell_type": "code",
   "execution_count": 25,
   "id": "c73c0ad4",
   "metadata": {},
   "outputs": [],
   "source": [
    "starting_url = \"https://scholar.google.com/scholar?start=0&q=(%22Machine+Learning%22%7C%22Deep+Learning%22)(%22Radiation+oncology%22%7C%22cancer+detection%22)&hl=en&as_sdt=0,44\"\n",
    "web_url = \"https://scholar.google.com\"\n",
    "# get intial response\n",
    "init_response = requests.get(starting_url)"
   ]
  },
  {
   "cell_type": "code",
   "execution_count": 27,
   "id": "b4e17866",
   "metadata": {},
   "outputs": [],
   "source": [
    "# create soup\n",
    "init_soup = bs4.BeautifulSoup(init_response.content, \"lxml\")"
   ]
  },
  {
   "cell_type": "code",
   "execution_count": 33,
   "id": "937ad640",
   "metadata": {},
   "outputs": [
    {
     "name": "stdout",
     "output_type": "stream",
     "text": [
      "<b class=\"gs_nma\">1</b>\n"
     ]
    },
    {
     "data": {
      "text/plain": [
       "'/scholar?start=60&q=(%22Machine+Learning%22%7C%22Deep+Learning%22)(%22Radiation+oncology%22%7C%22cancer+detection%22)&hl=en&oe=ASCII&as_sdt=0,44'"
      ]
     },
     "execution_count": 33,
     "metadata": {},
     "output_type": "execute_result"
    }
   ],
   "source": [
    "# use '.gs_nma' class tag to find url's for next pages\n",
    "print(init_soup.select('.gs_nma')[0]) # the first one does not have a href value with the url\n",
    "init_soup.select('#gs_nml')[0].find_all('a')[5]['href']"
   ]
  },
  {
   "cell_type": "code",
   "execution_count": 36,
   "id": "58ade039",
   "metadata": {},
   "outputs": [],
   "source": [
    "result_set = init_soup.select('#gs_nml')[0].find_all('a')"
   ]
  },
  {
   "cell_type": "code",
   "execution_count": null,
   "id": "6d48c84b",
   "metadata": {},
   "outputs": [],
   "source": [
    "# using the intial response, save urls of up to 10 pages in a list\n",
    "url_list = []\n",
    "for i in range(1, 10):\n",
    "    url_raw = result_set[i]['href']"
   ]
  },
  {
   "cell_type": "code",
   "execution_count": 24,
   "id": "7afcb078",
   "metadata": {},
   "outputs": [
    {
     "data": {
      "text/plain": [
       "'https://scholar.google'"
      ]
     },
     "execution_count": 24,
     "metadata": {},
     "output_type": "execute_result"
    }
   ],
   "source": [
    "starting_url.split('.com')[0]"
   ]
  },
  {
   "cell_type": "code",
   "execution_count": null,
   "id": "d58de060",
   "metadata": {},
   "outputs": [],
   "source": []
  }
 ],
 "metadata": {
  "kernelspec": {
   "display_name": "webscr",
   "language": "python",
   "name": "webscr"
  },
  "language_info": {
   "codemirror_mode": {
    "name": "ipython",
    "version": 3
   },
   "file_extension": ".py",
   "mimetype": "text/x-python",
   "name": "python",
   "nbconvert_exporter": "python",
   "pygments_lexer": "ipython3",
   "version": "3.10.11"
  }
 },
 "nbformat": 4,
 "nbformat_minor": 5
}
